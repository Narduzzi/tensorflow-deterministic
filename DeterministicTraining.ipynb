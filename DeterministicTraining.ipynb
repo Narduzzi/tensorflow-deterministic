{
 "cells": [
  {
   "cell_type": "code",
   "execution_count": 1,
   "metadata": {},
   "outputs": [],
   "source": [
    "import os\n",
    "os.environ['TF_DETERMINISTIC_OPS'] = '1'\n",
    "os.environ['TF_CUDNN_DETERMINISTIC'] = '1'\n",
    "os.environ[\"CUDA_VISIBLE_DEVICES\"] = \"1\"\n",
    "import tensorflow as tf\n",
    "from tensorflow.keras.layers import *\n",
    "from tensorflow.keras.models import *\n",
    "from tensorflow.keras.optimizers import *\n",
    "from tensorflow.keras.datasets.mnist import load_data\n",
    "import numpy as np\n",
    "import time"
   ]
  },
  {
   "cell_type": "code",
   "execution_count": 2,
   "metadata": {},
   "outputs": [],
   "source": [
    "# Loading and formatting the data \n",
    "(x_train, y_train), (x_test,y_test) = load_data()\n",
    "x_train = np.expand_dims(x_train, axis=3)/255.0\n",
    "x_test = np.expand_dims(x_test, axis=3)/255.0\n",
    "y_train = tf.keras.utils.to_categorical(y_train)\n",
    "y_test = tf.keras.utils.to_categorical(y_test)"
   ]
  },
  {
   "cell_type": "code",
   "execution_count": 3,
   "metadata": {},
   "outputs": [],
   "source": [
    "def create_model():\n",
    "    input_x = Input((28,28,1))\n",
    "    \n",
    "    x = Conv2D(filters=32, kernel_size=3, activation=\"relu\")(input_x)\n",
    "    x = AvgPool2D()(x)\n",
    "    x = Conv2D(filters=32, kernel_size=3, activation=\"relu\")(x)\n",
    "    x = AvgPool2D()(x)\n",
    "    x = Conv2D(filters=32, kernel_size=3, activation=\"relu\")(x)\n",
    "    x = Flatten()(x)\n",
    "    x = Dense(128, activation=\"relu\")(x)\n",
    "    x = Dense(10, activation=\"sigmoid\")(x)\n",
    "    model = Model(inputs=input_x, outputs=x)\n",
    "    model.compile(optimizer=\"Adam\", loss=\"categorical_crossentropy\", metrics=\"accuracy\")\n",
    "    return model"
   ]
  },
  {
   "cell_type": "code",
   "execution_count": 4,
   "metadata": {},
   "outputs": [
    {
     "name": "stdout",
     "output_type": "stream",
     "text": [
      "Model: \"model\"\n",
      "_________________________________________________________________\n",
      "Layer (type)                 Output Shape              Param #   \n",
      "=================================================================\n",
      "input_1 (InputLayer)         [(None, 28, 28, 1)]       0         \n",
      "_________________________________________________________________\n",
      "conv2d (Conv2D)              (None, 26, 26, 32)        320       \n",
      "_________________________________________________________________\n",
      "average_pooling2d (AveragePo (None, 13, 13, 32)        0         \n",
      "_________________________________________________________________\n",
      "conv2d_1 (Conv2D)            (None, 11, 11, 32)        9248      \n",
      "_________________________________________________________________\n",
      "average_pooling2d_1 (Average (None, 5, 5, 32)          0         \n",
      "_________________________________________________________________\n",
      "conv2d_2 (Conv2D)            (None, 3, 3, 32)          9248      \n",
      "_________________________________________________________________\n",
      "flatten (Flatten)            (None, 288)               0         \n",
      "_________________________________________________________________\n",
      "dense (Dense)                (None, 128)               36992     \n",
      "_________________________________________________________________\n",
      "dense_1 (Dense)              (None, 10)                1290      \n",
      "=================================================================\n",
      "Total params: 57,098\n",
      "Trainable params: 57,098\n",
      "Non-trainable params: 0\n",
      "_________________________________________________________________\n"
     ]
    }
   ],
   "source": [
    "create_model().summary()"
   ]
  },
  {
   "cell_type": "code",
   "execution_count": 5,
   "metadata": {
    "scrolled": true
   },
   "outputs": [
    {
     "name": "stdout",
     "output_type": "stream",
     "text": [
      "Model 1: loss=0.0666, loss=97.930\n",
      "Model 2: loss=0.0607, loss=98.110\n",
      "Model 3: loss=0.0520, loss=98.330\n"
     ]
    }
   ],
   "source": [
    "num_models = 3\n",
    "\n",
    "for i in range(num_models):\n",
    "    model = create_model()\n",
    "    # on GPU using CUDA\n",
    "    t_start = time.time()\n",
    "    model.fit(x_train, y_train, batch_size=512, shuffle=True, epochs=5, verbose=0)\n",
    "    t_end = time.time()\n",
    "    loss, acc = model.evaluate(x_test,y_test, verbose=0)\n",
    "    print(\"Model {}: loss={:0.4f}, accuracy={:0.3f}, training_time={:0.5f}\".format(i+1, loss, acc*100, t_end-t_start))"
   ]
  },
  {
   "cell_type": "markdown",
   "metadata": {},
   "source": [
    "## Fixing the seed"
   ]
  },
  {
   "cell_type": "code",
   "execution_count": 7,
   "metadata": {},
   "outputs": [
    {
     "name": "stdout",
     "output_type": "stream",
     "text": [
      "ERROR! Session/line number was not unique in database. History logging moved to new session 1492\n",
      "Model 1: loss=0.0604, accuracy=98.050, training_time=2.93664\n",
      "Model 2: loss=0.0593, accuracy=98.170, training_time=2.82109\n",
      "Model 3: loss=0.0613, accuracy=98.090, training_time=3.34918\n"
     ]
    }
   ],
   "source": [
    "num_models = 3\n",
    "\n",
    "for i in range(num_models):\n",
    "    # fixing the seed\n",
    "    tf.random.set_seed(42)\n",
    "    np.random.seed(1234) # optional, only necessary if using numpy random functions\n",
    "    \n",
    "    model = create_model()\n",
    "    # on GPU using CUDA\n",
    "    t_start = time.time()\n",
    "    model.fit(x_train, y_train, batch_size=512, shuffle=True, epochs=5, verbose=0)\n",
    "    t_end = time.time()\n",
    "    loss, acc = model.evaluate(x_test,y_test, verbose=0)\n",
    "    print(\"Model {}: loss={:0.4f}, accuracy={:0.3f}, training_time={:0.5f}\".format(i+1, loss, acc*100, t_end-t_start))"
   ]
  },
  {
   "cell_type": "code",
   "execution_count": null,
   "metadata": {},
   "outputs": [],
   "source": []
  }
 ],
 "metadata": {
  "kernelspec": {
   "display_name": "Python 3 (ipykernel)",
   "language": "python",
   "name": "python3"
  },
  "language_info": {
   "codemirror_mode": {
    "name": "ipython",
    "version": 3
   },
   "file_extension": ".py",
   "mimetype": "text/x-python",
   "name": "python",
   "nbconvert_exporter": "python",
   "pygments_lexer": "ipython3",
   "version": "3.7.1"
  },
  "varInspector": {
   "cols": {
    "lenName": 16,
    "lenType": 16,
    "lenVar": 40
   },
   "kernels_config": {
    "python": {
     "delete_cmd_postfix": "",
     "delete_cmd_prefix": "del ",
     "library": "var_list.py",
     "varRefreshCmd": "print(var_dic_list())"
    },
    "r": {
     "delete_cmd_postfix": ") ",
     "delete_cmd_prefix": "rm(",
     "library": "var_list.r",
     "varRefreshCmd": "cat(var_dic_list()) "
    }
   },
   "types_to_exclude": [
    "module",
    "function",
    "builtin_function_or_method",
    "instance",
    "_Feature"
   ],
   "window_display": false
  }
 },
 "nbformat": 4,
 "nbformat_minor": 5
}
